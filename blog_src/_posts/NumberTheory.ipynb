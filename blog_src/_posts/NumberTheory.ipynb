{
 "cells": [
  {
   "cell_type": "markdown",
   "metadata": {},
   "source": [
    "# The Mathematics of 1,2,3, ..."
   ]
  },
  {
   "cell_type": "markdown",
   "metadata": {},
   "source": [
    "## Number Theory"
   ]
  },
  {
   "cell_type": "markdown",
   "metadata": {},
   "source": [
    "Number theory is a field of mathematics that deals with the study of numbers and their properties. It is just like how chemists study different elements, their reactivity, their compounds, etc, in number theory mathematicians boil numbers, titrate them, react with numbers and form number complexes (complex numbers)."
   ]
  },
  {
   "cell_type": "markdown",
   "metadata": {},
   "source": [
    "### Group"
   ]
  },
  {
   "cell_type": "markdown",
   "metadata": {},
   "source": [
    "A group is a set of elements $G = \\{...\\}$ and an operation $#$. For G to be called a Group with respect to $#$, it must satisfy the following four group axioms or conditions:\n",
    "- Closure: For any $x$,$y$ $\\in G$, $x$ $#$ $y$ $\\in G$\n",
    "- Associativity: If $x$, $y$, $z$ $\\in G$, then ($x$ $#$ $y$) $#$ $z = x$ $#$ ($y$ $#$ $z$)\n",
    "- Identity: $\\exists e \\in G$ such that for any $x \\in G$,  $x$ $#$ $e = e$ $#$ $x$ = $x$ \n",
    "- Invertibility: For every $x \\in G$, there must exist an element $x^{-1}$ or $y \\in G$ such that, $x$ $#$ $y = y$ $#$ $x = e$, where $e$ is the identity element."
   ]
  },
  {
   "cell_type": "markdown",
   "metadata": {},
   "source": [
    "Integers form a group with the operation of addition. Let us check to see if they follow the rules of the Group Axioms:\n",
    "- Closure: For any two integers a and b, a+b is also an integer.\n",
    "- Associativity: Obviously\n",
    "- Identity: 0 is the identity integer\n",
    "- Invertibility: For every integer a, -a is also an integer and a + (-a) is 0.\n",
    "\n",
    "** Note that, group operations need not be commutative. **"
   ]
  },
  {
   "cell_type": "markdown",
   "metadata": {},
   "source": [
    "The order of a group $G$, is the number of elements in the set $G$.\n",
    "\n",
    "There are many interesting Groups in nature. Some of them are called symmetric groups and abelian groups. Let us discuss them one by one."
   ]
  },
  {
   "cell_type": "markdown",
   "metadata": {},
   "source": [
    "\n",
    "#### Symmetric Groups"
   ]
  },
  {
   "cell_type": "markdown",
   "metadata": {},
   "source": [
    "In general, symmetric groups are defined on a set $X$ and the group elements consist of bijective functions defined from X to X and the group operation is composition of functions. \n",
    "\n",
    "Let us take two elements in the group. Each element is a bijective function from X to X. Let $f$ and $g$ be two such functions.\n",
    "\n",
    "Now, $f:X\\rightarrow X$ and $g:X \\rightarrow X$.\n",
    "\n",
    "Consider the composition of f and g, $g o f:X \\rightarrow X$ also belongs to the group by definition.\n",
    "Identity elements always exist in these groups and therefore they form a symmetric group.\n",
    "\n",
    "Here, taking the first N natural numbers, the bijection becomes a mere permutation of re-arrangement.\n",
    "\n",
    "On a set $X_n$, for example consisting of numbers 1 to n.\n",
    "\\begin{equation}\n",
    "S_n = { 1, 2, 3, ... , n-1, n }\n",
    "\\end{equation}\n",
    "\n",
    "the symmetric group on the set $S_n$ consists of all the permutations of the numbers from 1 to n taken all at once. \n",
    "\n",
    "For example, let\n",
    "\\begin{equation}\n",
    "S_n = {1,2,3}\n",
    "\\end{equation}\n",
    "Then it's symmetric group is:\n",
    "\\begin{equation}\n",
    "G = {(1,2,3),(1,3,2),(2,3,1),(2,1,3),(3,1,2),(3,2,1)}\n",
    "\\end{equation}\n",
    "\n",
    "For $n$ elements there are $n!$ permutations. Hence, the order of the symmetric group of $S_n$ is $n!$.\n",
    "By this definition, a Rubik's cube, molecules like ammonia, permuations of numbers and millions of other objects in the real world that contain states can be mathematically modelled into a symmetric group."
   ]
  },
  {
   "cell_type": "markdown",
   "metadata": {},
   "source": [
    "#### Abelian Groups"
   ]
  },
  {
   "cell_type": "markdown",
   "metadata": {},
   "source": [
    "An abelian group is a special form of a group, which adds the condition of commutativity to the group. A group $G$ is said to be an abelian group with respect to an operation $#$, if $G$ is a group and:\n",
    "\n",
    "For any $x,y\\in G$, $x$ $#$ $y = y$ $#$ $x$\n",
    "\n",
    "The concept of Abelian Groups are important when it comes to rings, fields and finite fields. "
   ]
  },
  {
   "cell_type": "markdown",
   "metadata": {},
   "source": [
    "### Ring"
   ]
  },
  {
   "cell_type": "markdown",
   "metadata": {},
   "source": [
    "A ring is an abelian group $R$ but it has two operations, usually denoted as $+$ and $*$. But in order to make things simpler, let us consider them as $#1$ and $#2$.\n",
    "\n",
    "Conditions for a Group $R$ to be a ring:\n",
    "1. $R$ is an abelian group (i.e closure, associativity, commutative, identity and invertibility in $#1$)\n",
    "2. $R$ is monoid in $#2$, i.e\n",
    "    + For any $x,y,z\\in R$, ($x$ $#2$ $y$) $#2$ $z = x$ $#2$ ($y$ $#2$ $z$) [Associative]\n",
    "    + There exists an element $e \\in R$, such that for any element $x \\in R$, $x$ $#2$ $e = e$ $#2$ $x = x$ [Identity]\n",
    "\n",
    "3. The two operations must be distributive over the first operation $#1$. For all $x,y,z \\in R$:\n",
    "    + $x$ $#2$ ($y$ $#1$ $z$) = ($x$ $#2$ $y$) $#1$ ($x$ $#2$ $z$) [Left distributivity]\n",
    "    + ($y$ $#1$ $z$) $#2$ $x$ = ($y$ $#2$ $x$) $#1$ ($z$ $#2$ $x$) [Right distributivity]\n",
    "    \n",
    "** Note: Other sources use, $+$ and $*$ to denote the operations $#1$ and $#2$ respectively.**\n",
    "\n",
    "\n",
    "There is an interesting concept here called the *rng* (without the $i$), also known as the pseudo ring.\n",
    "A rng has all the properties of a ring except that it need not have a multiplicative identity.\n",
    "Consider, the set of even integers,\n",
    "\\begin{equation}\n",
    "S = {...,-8,-6,-4,-2,0,2,4,6,8,...}\n",
    "\\end{equation}\n",
    "and the operations addition $+$ and multiplication $*$. They form a $rng$ but not a $ring$ because there is no multiplicative identity $1$ in $S$.\n",
    "\n",
    "The set of Integers $Z$ with $+$ and $*$, however can claim the title of the **LORD of the RINGS**. Because they form a ring. Get it?Nope? Moving on!"
   ]
  },
  {
   "cell_type": "markdown",
   "metadata": {},
   "source": [
    "### Field"
   ]
  },
  {
   "cell_type": "markdown",
   "metadata": {},
   "source": [
    "A set $F$(see how I am conveniently changing the letters of the set as the definition changes, get used to it when reading math books) is said to be a Field with respect to the operations $+$ and $*$ if the following field axioms are satisfied:\n",
    "- ($F,+$) must be an abelian group\n",
    "- ($F-\\{0\\},*$) must be an abelian group [0 is the additive identity]"
   ]
  },
  {
   "cell_type": "markdown",
   "metadata": {},
   "source": [
    "#### Characteristic of a Field:\n",
    "A positive integer n is said to be a characteristic of a field $F$, if\n",
    "\\begin{equation}\n",
    "n . 1 = 0\n",
    "\\end{equation}\n",
    "i.e.\n",
    "\\begin{equation}\n",
    "1 + 1 + ... + 1 = 0 \n",
    "\\end{equation}\n",
    "Here, 0 is the identity of the $+$ operation. If there is no positive integer n that satisfies this condition, then the field is said to have a zero characteristic.\n",
    "\n",
    "We need not take only 1 here. In fact, for any element $x \\in F$, $n.x = 0$ is true. We also want the least positive positive integer n that satisfies this condition for all the elements in the set $F."
   ]
  },
  {
   "cell_type": "markdown",
   "metadata": {},
   "source": [
    "#### Subfield"
   ]
  },
  {
   "cell_type": "markdown",
   "metadata": {},
   "source": [
    "A field ($G,+,*$) is said to be a subfield of ($F,+,*$), if $0$ in $F = 0$ in $G$, both the operations are the same and $G\\subset F$."
   ]
  },
  {
   "cell_type": "markdown",
   "metadata": {},
   "source": [
    "### Prime Field\n",
    "\n",
    "Given a prime number $p$, we can build a prime number field.\n",
    "Let the $+$ operation be a $+modulo$ p operation:if the sum exceeds p, we mod it with p.\n",
    "Let the $*$ operation be a $*modulo$ p operation:if the product exceeds p, we mod it with p.\n",
    "Add these two operations with a set consisting of integers from $0$ to $p-1$, we get a prime field.\n",
    "\n",
    "This field is commonly referred to as $\\mathbb{Z}_p$.\n",
    "\n",
    "For example, \n",
    "\\begin{equation}\n",
    "\\mathbb{Z}_7 = \\{0,1,2,3,4,5,6\\}\n",
    "\\end{equation}"
   ]
  },
  {
   "cell_type": "markdown",
   "metadata": {},
   "source": [
    "### Finite Field"
   ]
  },
  {
   "cell_type": "markdown",
   "metadata": {},
   "source": [
    "By the blessings from the gods of obviousness, a finite field is a field containing a finite number of elements in its set. One interesting finite field is the finite field of prime order, also called the Galois Field ($GF(p)$ or $\\mathbb{Z}/p\\mathbb{Z}$ or $\\mathbb{F}_{p}$). \n",
    "\n",
    "The elements of a Galois Field are actually generally defined as,\n",
    "\n",
    "\\begin{align}\n",
    "    gf(p^n) = && (0,1,2,..., p-1) \\cup \\\\\\\n",
    "               && (p,p+1,p+2,...,p+p-1) \\cup \\\\\\\n",
    "               && (p^2, p^2+1,p^2+2,...,p^2+p-1) \\cup ... \\cup \\\\\\\n",
    "               && (p^{n-1},p^{n-1}+1, p^{n-1}+2,...,p^{n-1}+p-1)\n",
    "\\end{align}\n",
    "where $p \\in \\mathbb{P}$ and $n \\in \\mathbb{Z}^{+}$"
   ]
  },
  {
   "cell_type": "markdown",
   "metadata": {},
   "source": [
    "Let us try to compute $gf(3^2)$:\n",
    "\n",
    "\\begin{equation}\n",
    "gf(3^2) = \\{0,1,2,3,4,5\\}\n",
    "\\end{equation}\n",
    "\n",
    "The operations here are $+modulo3$ and $*modulo3$.\n",
    "\n",
    "One can easily note that, $gf(p^1)$ is nothing but the prime field $\\mathbb{Z}_p$. However, $gf(p^n)$ is considered to be an extension to the prime field $\\mathbb{Z}_p$. The addition of the new elements to the set do not violate any of the field properties."
   ]
  },
  {
   "cell_type": "markdown",
   "metadata": {},
   "source": [
    "All of this number physics is beautiful actually. Mathematics is the purest form of art and knowledge to have ever been invented by mankind. It is certainly very true that numbers never lie. In the upcoming blogs, let us explore the application of number theory in cryptography."
   ]
  },
  {
   "cell_type": "markdown",
   "metadata": {},
   "source": [
    "Feel free to contact me at dth.bht@gmail.com for any queries, complaints or suggestions."
   ]
  },
  {
   "cell_type": "markdown",
   "metadata": {},
   "source": [
    "Signing off, Yours truly, the Hermitsage"
   ]
  }
 ],
 "metadata": {
  "kernelspec": {
   "display_name": "Python 3",
   "language": "python",
   "name": "python3"
  },
  "language_info": {
   "codemirror_mode": {
    "name": "ipython",
    "version": 3
   },
   "file_extension": ".py",
   "mimetype": "text/x-python",
   "name": "python",
   "nbconvert_exporter": "python",
   "pygments_lexer": "ipython3",
   "version": "3.6.0"
  }
 },
 "nbformat": 4,
 "nbformat_minor": 2
}
